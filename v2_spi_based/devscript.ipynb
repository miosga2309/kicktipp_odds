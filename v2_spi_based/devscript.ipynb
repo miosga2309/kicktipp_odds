{
 "cells": [
  {
   "cell_type": "code",
   "execution_count": 1,
   "metadata": {},
   "outputs": [
    {
     "name": "stdout",
     "output_type": "stream",
     "text": [
      "Requirement already satisfied: statsmodels in /Library/Frameworks/Python.framework/Versions/3.7/lib/python3.7/site-packages (0.12.1)\n",
      "Requirement already satisfied: numpy>=1.15 in /Library/Frameworks/Python.framework/Versions/3.7/lib/python3.7/site-packages (from statsmodels) (1.17.2)\n",
      "Requirement already satisfied: pandas>=0.21 in /Library/Frameworks/Python.framework/Versions/3.7/lib/python3.7/site-packages (from statsmodels) (0.25.1)\n",
      "Requirement already satisfied: scipy>=1.1 in /Library/Frameworks/Python.framework/Versions/3.7/lib/python3.7/site-packages (from statsmodels) (1.3.1)\n",
      "Requirement already satisfied: patsy>=0.5 in /Library/Frameworks/Python.framework/Versions/3.7/lib/python3.7/site-packages (from statsmodels) (0.5.1)\n",
      "Requirement already satisfied: python-dateutil>=2.6.1 in /Library/Frameworks/Python.framework/Versions/3.7/lib/python3.7/site-packages (from pandas>=0.21->statsmodels) (2.8.0)\n",
      "Requirement already satisfied: pytz>=2017.2 in /Library/Frameworks/Python.framework/Versions/3.7/lib/python3.7/site-packages (from pandas>=0.21->statsmodels) (2019.2)\n",
      "Requirement already satisfied: six in /Library/Frameworks/Python.framework/Versions/3.7/lib/python3.7/site-packages (from patsy>=0.5->statsmodels) (1.12.0)\n",
      "\u001b[33mYou are using pip version 19.0.3, however version 20.3.3 is available.\n",
      "You should consider upgrading via the 'pip install --upgrade pip' command.\u001b[0m\n"
     ]
    }
   ],
   "source": [
    "import pandas as pd\n",
    "import numpy as np\n",
    "import sys\n",
    "!{sys.executable} -m pip install statsmodels\n",
    "import statsmodels.api as sm"
   ]
  },
  {
   "cell_type": "code",
   "execution_count": 2,
   "metadata": {},
   "outputs": [],
   "source": [
    "from patsy import dmatrices\n",
    "import matplotlib.pyplot as plt"
   ]
  },
  {
   "cell_type": "code",
   "execution_count": 3,
   "metadata": {},
   "outputs": [],
   "source": [
    "# load latest datasets\n",
    "all = pd.read_csv(\"https://projects.fivethirtyeight.com/soccer-api/club/spi_matches.csv\")\n",
    "spi = pd.read_csv(\"https://projects.fivethirtyeight.com/soccer-api/club/spi_global_rankings.csv\")"
   ]
  },
  {
   "cell_type": "code",
   "execution_count": 102,
   "metadata": {},
   "outputs": [],
   "source": [
    "all = all[all['league'] == 'German Bundesliga']\n",
    "spi = spi[spi['league'] == 'German Bundesliga']"
   ]
  },
  {
   "cell_type": "code",
   "execution_count": 103,
   "metadata": {},
   "outputs": [],
   "source": [
    "# current match\n",
    "newgame = {'score1': 0,\n",
    "           'score2': 0,\n",
    "           'team1': 'Bayern Munich',\n",
    "           'team2': 'Mainz',\n",
    "           'spi1': float(spi.spi[spi.name == 'Bayern Munich']),\n",
    "           'spi2': float(spi.spi[spi.name == 'Mainz'])\n",
    "        }"
   ]
  },
  {
   "cell_type": "code",
   "execution_count": 104,
   "metadata": {},
   "outputs": [],
   "source": [
    "all = all.append(newgame, ignore_index=True)"
   ]
  },
  {
   "cell_type": "code",
   "execution_count": 105,
   "metadata": {},
   "outputs": [
    {
     "name": "stdout",
     "output_type": "stream",
     "text": [
      "Training data set length=1218\n",
      "Testing data set length=313\n"
     ]
    }
   ],
   "source": [
    "#n = len(all)\n",
    "#mask = np.array([True]*n)\n",
    "#mask[len(all)-1] = False\n",
    "\n",
    "mask = np.random.rand(len(all)) < 0.8\n",
    "mask[len(all)-1] = False\n",
    "df_train = all[mask]\n",
    "df_test = all[~mask]\n",
    "print('Training data set length='+str(len(df_train)))\n",
    "print('Testing data set length='+str(len(df_test)))"
   ]
  },
  {
   "cell_type": "code",
   "execution_count": 106,
   "metadata": {},
   "outputs": [],
   "source": [
    "expr1 = \"\"\"score1 ~ team1  + team2 + spi1 + spi2\"\"\"\n",
    "expr2 = \"\"\"score2 ~ team1  + team2 + spi1 + spi2\"\"\""
   ]
  },
  {
   "cell_type": "code",
   "execution_count": 108,
   "metadata": {},
   "outputs": [],
   "source": [
    "y_train1, X_train1 = dmatrices(expr1, df_train, return_type='dataframe')\n",
    "y_test1, X_test1 = dmatrices(expr1, df_test, return_type='dataframe')\n",
    "y_train2, X_train2 = dmatrices(expr2, df_train, return_type='dataframe')\n",
    "y_test2, X_test2 = dmatrices(expr2, df_test, return_type='dataframe')"
   ]
  },
  {
   "cell_type": "code",
   "execution_count": 109,
   "metadata": {},
   "outputs": [],
   "source": [
    "poisson_training_results1 = sm.GLM(y_train1, X_train1, family=sm.families.Poisson()).fit()\n",
    "poisson_training_results2 = sm.GLM(y_train2, X_train2, family=sm.families.Poisson()).fit()"
   ]
  },
  {
   "cell_type": "code",
   "execution_count": 110,
   "metadata": {},
   "outputs": [
    {
     "name": "stdout",
     "output_type": "stream",
     "text": [
      "          mean   mean_se  mean_ci_lower  mean_ci_upper\n",
      "3     2.061110  0.446159       1.348483       3.150335\n",
      "14    1.225542  0.302919       0.754981       1.989393\n",
      "20    0.772612  0.191288       0.475571       1.255184\n",
      "21    1.575233  0.241697       1.166112       2.127891\n",
      "24    1.976612  0.275011       1.504845       2.596277\n",
      "...        ...       ...            ...            ...\n",
      "1330  1.044820  0.484219       0.421264       2.591364\n",
      "1332  1.609803  0.326468       1.081806       2.395501\n",
      "1339  1.212258  0.185727       0.897810       1.636838\n",
      "1340  1.692224  0.316063       1.173480       2.440282\n",
      "1530  3.994039  0.480172       3.155578       5.055286\n",
      "\n",
      "[278 rows x 4 columns]\n",
      "          mean   mean_se  mean_ci_lower  mean_ci_upper\n",
      "3     0.885501  0.303534       0.452285       1.733666\n",
      "14    1.587715  0.384291       0.987978       2.551513\n",
      "20    1.254793  0.291754       0.795532       1.979185\n",
      "21    1.511266  0.249078       1.094084       2.087521\n",
      "24    1.414633  0.225770       1.034654       1.934159\n",
      "...        ...       ...            ...            ...\n",
      "1330  1.097242  0.402422       0.534709       2.251580\n",
      "1332  1.526498  0.356053       0.966396       2.411224\n",
      "1339  1.181200  0.195685       0.853706       1.634325\n",
      "1340  1.000241  0.226745       0.641425       1.559782\n",
      "1530  0.606663  0.124188       0.406163       0.906138\n",
      "\n",
      "[278 rows x 4 columns]\n"
     ]
    }
   ],
   "source": [
    "poisson_predictions1 = poisson_training_results1.get_prediction(X_test1)\n",
    "#.summary_frame() returns a pandas DataFrame\n",
    "predictions_summary_frame1 = poisson_predictions1.summary_frame()\n",
    "print(predictions_summary_frame1)\n",
    "\n",
    "poisson_predictions2 = poisson_training_results2.get_prediction(X_test2)\n",
    "#.summary_frame() returns a pandas DataFrame\n",
    "predictions_summary_frame2 = poisson_predictions2.summary_frame()\n",
    "print(predictions_summary_frame2)"
   ]
  }
 ],
 "metadata": {
  "kernelspec": {
   "display_name": "Python 3",
   "language": "python",
   "name": "python3"
  },
  "language_info": {
   "codemirror_mode": {
    "name": "ipython",
    "version": 3
   },
   "file_extension": ".py",
   "mimetype": "text/x-python",
   "name": "python",
   "nbconvert_exporter": "python",
   "pygments_lexer": "ipython3",
   "version": "3.7.4"
  }
 },
 "nbformat": 4,
 "nbformat_minor": 2
}
