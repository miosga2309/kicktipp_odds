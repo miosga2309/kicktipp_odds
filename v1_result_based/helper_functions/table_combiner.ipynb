{
 "cells": [
  {
   "cell_type": "code",
   "execution_count": 1,
   "metadata": {},
   "outputs": [],
   "source": [
    "import pandas as pd\n",
    "#import mxnet as mx"
   ]
  },
  {
   "cell_type": "code",
   "execution_count": 2,
   "metadata": {},
   "outputs": [],
   "source": [
    "# read-in CSVs\n",
    "#df15 = pd.read_csv(\"/Users/jonasmiosga/Desktop/kicktipp_odds/2015_16.csv\", encoding = 'utf-8')\n",
    "#df16 = pd.read_csv(\"/Users/jonasmiosga/Desktop/kicktipp_odds/2016_17.csv\", encoding = 'utf-8')\n",
    "#df17 = pd.read_csv(\"/Users/jonasmiosga/Desktop/kicktipp_odds/2017_18.csv\", encoding = 'utf-8')\n",
    "df18 = pd.read_csv(\"/Users/jonasmiosga/Desktop/kicktipp_odds/2018_19.csv\", encoding = 'utf-8')\n",
    "df19 = pd.read_csv(\"/Users/jonasmiosga/Desktop/kicktipp_odds/2019_20.csv\", encoding = 'utf-8')\n",
    "df20 = pd.read_csv(\"/Users/jonasmiosga/Desktop/kicktipp_odds/2020_21.csv\", encoding = 'utf-8')"
   ]
  },
  {
   "cell_type": "code",
   "execution_count": 5,
   "metadata": {},
   "outputs": [],
   "source": [
    "# find common columns\n",
    "## list(df15)).intersection(list(df16)).intersection(list(df17)).intersection(\n",
    "col_list = list(set(list(df18)).intersection(list(df19)).intersection(list(df20)))"
   ]
  },
  {
   "cell_type": "code",
   "execution_count": 6,
   "metadata": {},
   "outputs": [],
   "source": [
    "# read-in CSVs but only with the columns all frames share\n",
    "#df15 = pd.read_csv(\"/Users/jonasmiosga/Desktop/kicktipp_odds/2015_16.csv\", encoding = 'utf-8', usecols = col_list)\n",
    "#df16 = pd.read_csv(\"/Users/jonasmiosga/Desktop/kicktipp_odds/2016_17.csv\", encoding = 'utf-8', usecols = col_list)\n",
    "#df17 = pd.read_csv(\"/Users/jonasmiosga/Desktop/kicktipp_odds/2017_18.csv\", encoding = 'utf-8', usecols = col_list)\n",
    "df18 = pd.read_csv(\"/Users/jonasmiosga/Desktop/kicktipp_odds/2018_19.csv\", encoding = 'utf-8', usecols = col_list)\n",
    "df19 = pd.read_csv(\"/Users/jonasmiosga/Desktop/kicktipp_odds/2019_20.csv\", encoding = 'utf-8', usecols = col_list)\n",
    "df20 = pd.read_csv(\"/Users/jonasmiosga/Desktop/kicktipp_odds/2020_21.csv\", encoding = 'utf-8', usecols = col_list)"
   ]
  },
  {
   "cell_type": "code",
   "execution_count": 7,
   "metadata": {},
   "outputs": [],
   "source": [
    "# concatenate tables\n",
    "## df15,df16,df17,\n",
    "df = pd.concat([df18,df19,df20])"
   ]
  },
  {
   "cell_type": "code",
   "execution_count": 8,
   "metadata": {},
   "outputs": [],
   "source": [
    "# save current dataframe\n",
    "df.to_csv(\"/Users/jonasmiosga/Desktop/kicktipp_odds/df.csv\",index = False)"
   ]
  },
  {
   "cell_type": "code",
   "execution_count": 7,
   "metadata": {},
   "outputs": [],
   "source": [
    "# construct model\n"
   ]
  },
  {
   "cell_type": "code",
   "execution_count": 8,
   "metadata": {},
   "outputs": [],
   "source": [
    "# test model: the model's performance is more important for the newer seasons\n"
   ]
  }
 ],
 "metadata": {
  "kernelspec": {
   "display_name": "Python 3",
   "language": "python",
   "name": "python3"
  },
  "language_info": {
   "codemirror_mode": {
    "name": "ipython",
    "version": 3
   },
   "file_extension": ".py",
   "mimetype": "text/x-python",
   "name": "python",
   "nbconvert_exporter": "python",
   "pygments_lexer": "ipython3",
   "version": "3.7.4"
  }
 },
 "nbformat": 4,
 "nbformat_minor": 2
}
