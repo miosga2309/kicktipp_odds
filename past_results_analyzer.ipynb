{
 "cells": [
  {
   "cell_type": "code",
   "execution_count": 1,
   "metadata": {},
   "outputs": [],
   "source": [
    "import pandas as pd"
   ]
  },
  {
   "cell_type": "code",
   "execution_count": 19,
   "metadata": {},
   "outputs": [],
   "source": [
    "# read-in CSVs\n",
    "df15 = pd.read_csv(\"/Users/jonasmiosga/Desktop/kicktipp_odds/2015_16.csv\", encoding = 'utf-8')\n",
    "df16 = pd.read_csv(\"/Users/jonasmiosga/Desktop/kicktipp_odds/2016_17.csv\", encoding = 'utf-8')\n",
    "df17 = pd.read_csv(\"/Users/jonasmiosga/Desktop/kicktipp_odds/2017_18.csv\", encoding = 'utf-8')\n",
    "df18 = pd.read_csv(\"/Users/jonasmiosga/Desktop/kicktipp_odds/2018_19.csv\", encoding = 'utf-8')\n",
    "df19 = pd.read_csv(\"/Users/jonasmiosga/Desktop/kicktipp_odds/2019_20.csv\", encoding = 'utf-8')\n",
    "df20 = pd.read_csv(\"/Users/jonasmiosga/Desktop/kicktipp_odds/2020_21.csv\", encoding = 'utf-8')"
   ]
  },
  {
   "cell_type": "code",
   "execution_count": 40,
   "metadata": {},
   "outputs": [],
   "source": [
    "# find common columns\n",
    "col_list = list(set(list(df15)).intersection(list(df16)).intersection(list(df17)).intersection(list(df18)).intersection(list(df19)).intersection(list(df20)))"
   ]
  },
  {
   "cell_type": "code",
   "execution_count": 41,
   "metadata": {},
   "outputs": [],
   "source": [
    "# read-in CSVs but only with the columns all frames share\n",
    "df15 = pd.read_csv(\"/Users/jonasmiosga/Desktop/kicktipp_odds/2015_16.csv\", encoding = 'utf-8', usecols = col_list)\n",
    "df16 = pd.read_csv(\"/Users/jonasmiosga/Desktop/kicktipp_odds/2016_17.csv\", encoding = 'utf-8', usecols = col_list)\n",
    "df17 = pd.read_csv(\"/Users/jonasmiosga/Desktop/kicktipp_odds/2017_18.csv\", encoding = 'utf-8', usecols = col_list)\n",
    "df18 = pd.read_csv(\"/Users/jonasmiosga/Desktop/kicktipp_odds/2018_19.csv\", encoding = 'utf-8', usecols = col_list)\n",
    "df19 = pd.read_csv(\"/Users/jonasmiosga/Desktop/kicktipp_odds/2019_20.csv\", encoding = 'utf-8', usecols = col_list)\n",
    "df20 = pd.read_csv(\"/Users/jonasmiosga/Desktop/kicktipp_odds/2020_21.csv\", encoding = 'utf-8', usecols = col_list)"
   ]
  },
  {
   "cell_type": "code",
   "execution_count": 45,
   "metadata": {},
   "outputs": [],
   "source": [
    "# concatenate tables\n",
    "df = pd.concat([df15,df16,df17,df18,df19,df20])"
   ]
  },
  {
   "cell_type": "code",
   "execution_count": 52,
   "metadata": {},
   "outputs": [
    {
     "data": {
      "text/plain": [
       "['Div',\n",
       " 'Date',\n",
       " 'HomeTeam',\n",
       " 'AwayTeam',\n",
       " 'FTHG',\n",
       " 'FTAG',\n",
       " 'FTR',\n",
       " 'HTHG',\n",
       " 'HTAG',\n",
       " 'HTR',\n",
       " 'HS',\n",
       " 'AS',\n",
       " 'HST',\n",
       " 'AST',\n",
       " 'HF',\n",
       " 'AF',\n",
       " 'HC',\n",
       " 'AC',\n",
       " 'HY',\n",
       " 'AY',\n",
       " 'HR',\n",
       " 'AR',\n",
       " 'B365H',\n",
       " 'B365D',\n",
       " 'B365A',\n",
       " 'BWH',\n",
       " 'BWD',\n",
       " 'BWA',\n",
       " 'IWH',\n",
       " 'IWD',\n",
       " 'IWA',\n",
       " 'PSH',\n",
       " 'PSD',\n",
       " 'PSA',\n",
       " 'WHH',\n",
       " 'WHD',\n",
       " 'WHA',\n",
       " 'VCH',\n",
       " 'VCD',\n",
       " 'VCA',\n",
       " 'PSCH',\n",
       " 'PSCD',\n",
       " 'PSCA']"
      ]
     },
     "execution_count": 52,
     "metadata": {},
     "output_type": "execute_result"
    }
   ],
   "source": [
    "list(df)"
   ]
  }
 ],
 "metadata": {
  "kernelspec": {
   "display_name": "Python 3",
   "language": "python",
   "name": "python3"
  },
  "language_info": {
   "codemirror_mode": {
    "name": "ipython",
    "version": 3
   },
   "file_extension": ".py",
   "mimetype": "text/x-python",
   "name": "python",
   "nbconvert_exporter": "python",
   "pygments_lexer": "ipython3",
   "version": "3.7.4"
  }
 },
 "nbformat": 4,
 "nbformat_minor": 2
}
