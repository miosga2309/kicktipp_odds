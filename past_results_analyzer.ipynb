{
 "cells": [
  {
   "cell_type": "code",
   "execution_count": 1,
   "metadata": {},
   "outputs": [
    {
     "ename": "ModuleNotFoundError",
     "evalue": "No module named 'mxnet'",
     "output_type": "error",
     "traceback": [
      "\u001b[0;31m---------------------------------------------------------------------------\u001b[0m",
      "\u001b[0;31mModuleNotFoundError\u001b[0m                       Traceback (most recent call last)",
      "\u001b[0;32m<ipython-input-1-663b7a35c56c>\u001b[0m in \u001b[0;36m<module>\u001b[0;34m\u001b[0m\n\u001b[1;32m      1\u001b[0m \u001b[0;32mimport\u001b[0m \u001b[0mpandas\u001b[0m \u001b[0;32mas\u001b[0m \u001b[0mpd\u001b[0m\u001b[0;34m\u001b[0m\u001b[0;34m\u001b[0m\u001b[0m\n\u001b[0;32m----> 2\u001b[0;31m \u001b[0;32mimport\u001b[0m \u001b[0mmxnet\u001b[0m \u001b[0;32mas\u001b[0m \u001b[0mmx\u001b[0m\u001b[0;34m\u001b[0m\u001b[0;34m\u001b[0m\u001b[0m\n\u001b[0m",
      "\u001b[0;31mModuleNotFoundError\u001b[0m: No module named 'mxnet'"
     ]
    }
   ],
   "source": [
    "import pandas as pd\n",
    "import mxnet as mx"
   ]
  },
  {
   "cell_type": "code",
   "execution_count": 19,
   "metadata": {},
   "outputs": [],
   "source": [
    "# read-in CSVs\n",
    "df15 = pd.read_csv(\"/Users/jonasmiosga/Desktop/kicktipp_odds/2015_16.csv\", encoding = 'utf-8')\n",
    "df16 = pd.read_csv(\"/Users/jonasmiosga/Desktop/kicktipp_odds/2016_17.csv\", encoding = 'utf-8')\n",
    "df17 = pd.read_csv(\"/Users/jonasmiosga/Desktop/kicktipp_odds/2017_18.csv\", encoding = 'utf-8')\n",
    "df18 = pd.read_csv(\"/Users/jonasmiosga/Desktop/kicktipp_odds/2018_19.csv\", encoding = 'utf-8')\n",
    "df19 = pd.read_csv(\"/Users/jonasmiosga/Desktop/kicktipp_odds/2019_20.csv\", encoding = 'utf-8')\n",
    "df20 = pd.read_csv(\"/Users/jonasmiosga/Desktop/kicktipp_odds/2020_21.csv\", encoding = 'utf-8')"
   ]
  },
  {
   "cell_type": "code",
   "execution_count": 40,
   "metadata": {},
   "outputs": [],
   "source": [
    "# find common columns\n",
    "col_list = list(set(list(df15)).intersection(list(df16)).intersection(list(df17)).intersection(list(df18)).intersection(list(df19)).intersection(list(df20)))"
   ]
  },
  {
   "cell_type": "code",
   "execution_count": 41,
   "metadata": {},
   "outputs": [],
   "source": [
    "# read-in CSVs but only with the columns all frames share\n",
    "df15 = pd.read_csv(\"/Users/jonasmiosga/Desktop/kicktipp_odds/2015_16.csv\", encoding = 'utf-8', usecols = col_list)\n",
    "df16 = pd.read_csv(\"/Users/jonasmiosga/Desktop/kicktipp_odds/2016_17.csv\", encoding = 'utf-8', usecols = col_list)\n",
    "df17 = pd.read_csv(\"/Users/jonasmiosga/Desktop/kicktipp_odds/2017_18.csv\", encoding = 'utf-8', usecols = col_list)\n",
    "df18 = pd.read_csv(\"/Users/jonasmiosga/Desktop/kicktipp_odds/2018_19.csv\", encoding = 'utf-8', usecols = col_list)\n",
    "df19 = pd.read_csv(\"/Users/jonasmiosga/Desktop/kicktipp_odds/2019_20.csv\", encoding = 'utf-8', usecols = col_list)\n",
    "df20 = pd.read_csv(\"/Users/jonasmiosga/Desktop/kicktipp_odds/2020_21.csv\", encoding = 'utf-8', usecols = col_list)"
   ]
  },
  {
   "cell_type": "code",
   "execution_count": 45,
   "metadata": {},
   "outputs": [],
   "source": [
    "# concatenate tables\n",
    "df = pd.concat([df15,df16,df17,df18,df19,df20])"
   ]
  },
  {
   "cell_type": "code",
   "execution_count": 56,
   "metadata": {},
   "outputs": [],
   "source": [
    "# construct model"
   ]
  },
  {
   "cell_type": "code",
   "execution_count": null,
   "metadata": {},
   "outputs": [],
   "source": [
    "# test model: the model's performance is more important for the newer seasons"
   ]
  }
 ],
 "metadata": {
  "kernelspec": {
   "display_name": "Python 3",
   "language": "python",
   "name": "python3"
  },
  "language_info": {
   "codemirror_mode": {
    "name": "ipython",
    "version": 3
   },
   "file_extension": ".py",
   "mimetype": "text/x-python",
   "name": "python",
   "nbconvert_exporter": "python",
   "pygments_lexer": "ipython3",
   "version": "3.7.4"
  }
 },
 "nbformat": 4,
 "nbformat_minor": 2
}
